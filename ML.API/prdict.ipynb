{
 "cells": [
  {
   "cell_type": "code",
   "execution_count": 42,
   "metadata": {},
   "outputs": [
    {
     "name": "stdout",
     "output_type": "stream",
     "text": [
      "Input: L | Prediction: Positive\n"
     ]
    }
   ],
   "source": [
    "import joblib\n",
    "from sklearn.feature_extraction.text import TfidfVectorizer\n",
    "\n",
    "# Step 1: Load the pre-trained model and vectorizer\n",
    "logreg = joblib.load('model.pkl')\n",
    "vectorizer = joblib.load('vectorizer.pkl')\n",
    "\n",
    "# Define the class labels\n",
    "class_labels = {0: 'Negative', 1: 'Positive'}\n",
    "\n",
    "# Step 2: Preprocess the input data\n",
    "input_text = \"\"\n",
    "\n",
    "input_vectors = vectorizer.transform([input_text])\n",
    "\n",
    "# Step 3: Make predictions\n",
    "predictions = logreg.predict(input_vectors)\n",
    "\n",
    "# Map predictions to string labels\n",
    "predicted_labels = [class_labels[pred] for pred in predictions]\n",
    "\n",
    "# Print the predictions\n",
    "for text, prediction in zip(input_text, predicted_labels):\n",
    "    print(f\"Input: {text} | Prediction: {prediction}\")\n"
   ]
  }
 ],
 "metadata": {
  "kernelspec": {
   "display_name": "Python 3",
   "language": "python",
   "name": "python3"
  },
  "language_info": {
   "codemirror_mode": {
    "name": "ipython",
    "version": 3
   },
   "file_extension": ".py",
   "mimetype": "text/x-python",
   "name": "python",
   "nbconvert_exporter": "python",
   "pygments_lexer": "ipython3",
   "version": "3.12.4"
  }
 },
 "nbformat": 4,
 "nbformat_minor": 2
}
